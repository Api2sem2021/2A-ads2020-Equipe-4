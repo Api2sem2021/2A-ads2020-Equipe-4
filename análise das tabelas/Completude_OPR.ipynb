{
 "cells": [
  {
   "cell_type": "code",
   "execution_count": 82,
   "metadata": {},
   "outputs": [],
   "source": [
    "## Importando a biblioteca\n",
    "import pandas as pd\n",
    "import numpy as np\n",
    "import matplotlib.pyplot as plt"
   ]
  },
  {
   "cell_type": "code",
   "execution_count": 84,
   "metadata": {},
   "outputs": [],
   "source": [
    "## Atribuindo o arquivo a uma variável(Dataframe)\n",
    "opr = pd.read_excel('STG_OPR_ITT.xlsx')"
   ]
  },
  {
   "cell_type": "code",
   "execution_count": 85,
   "metadata": {},
   "outputs": [],
   "source": [
    "## Verificando completude das colunas\n",
    "total = []\n",
    "nulos = []\n",
    "total.append(len(opr))\n",
    "cont1, cont2, cont3, cont4, cont5, cont6, cont7, cont8, cont9 = 0, 0, 0, 0, 0, 0, 0, 0, 0,\n",
    "for i in range (len(opr)):\n",
    "    if (str(opr.ID_MDL[i]) == 'C01' and str(opr.VLR_CTRD_CSC) == ''):\n",
    "        cont1 += 1\n",
    "        nulos.append(cont1)\n",
    "    if (str(opr.ID_MDL[i]) == 'C01' and str(opr.VLR_SDO_DDR) == ''):\n",
    "        cont2 += 1\n",
    "        nulos.append(cont2)\n",
    "    if (str(opr.QTD_PCL) == ''):\n",
    "        cont3 += 1\n",
    "        nulos.append(cont3)\n",
    "    if (str(opr.QTD_CLI_CAD_POS) == ''):\n",
    "        cont4 += 1\n",
    "        nulos.append(cont4)\n",
    "    if (str(opr.QTD_OPR) == ''):\n",
    "        cont5 += 1\n",
    "        nulos.append(cont5)\n",
    "    if (str(opr.ID_FNT_ITT) == ''):\n",
    "        cont6 += 1\n",
    "        nulos.append(cont6)\n",
    "    if (str(opr.ID_MDL) == ''):\n",
    "        cont7 += 1\n",
    "        nulos.append(cont7)\n",
    "    if (str(opr.DES_TIP_PSS) == ''):\n",
    "        cont8 += 1\n",
    "        nulos.append(cont8)\n",
    "    if (str(opr.DAT_INC_DBO) == ''):\n",
    "        cont9 += 1\n",
    "        nulos.append(cont9)"
   ]
  },
  {
   "cell_type": "code",
   "execution_count": 88,
   "metadata": {},
   "outputs": [
    {
     "data": {
      "text/plain": [
       "Text(0.5, 1.0, 'Completude dos dados')"
      ]
     },
     "execution_count": 88,
     "metadata": {},
     "output_type": "execute_result"
    },
    {
     "data": {
      "image/png": "[encoded data removed]",
      "text/plain": [
       "<Figure size 432x288 with 1 Axes>"
      ]
     },
     "metadata": {
      "needs_background": "light"
     },
     "output_type": "display_data"
    }
   ],
   "source": [
    "dados = ['Total', 'Nulos']\n",
    "n = len(opr), len(nulos)\n",
    "plt.bar(dados, n, color=\"blue\")\n",
    "plt.xticks(dados)\n",
    "plt.ylabel('QUANTIDADE')\n",
    "plt.xlabel('DADOS')\n",
    "plt.title('Completude dos dados')"
   ]
  },
  {
   "cell_type": "code",
   "execution_count": null,
   "metadata": {},
   "outputs": [],
   "source": []
  }
 ],
 "metadata": {
  "kernelspec": {
   "display_name": "Python 3",
   "language": "python",
   "name": "python3"
  },
  "language_info": {
   "codemirror_mode": {
    "name": "ipython",
    "version": 3
   },
   "file_extension": ".py",
   "mimetype": "text/x-python",
   "name": "python",
   "nbconvert_exporter": "python",
   "pygments_lexer": "ipython3",
   "version": "3.7.7rc1"
  }
 },
 "nbformat": 4,
 "nbformat_minor": 4
}
