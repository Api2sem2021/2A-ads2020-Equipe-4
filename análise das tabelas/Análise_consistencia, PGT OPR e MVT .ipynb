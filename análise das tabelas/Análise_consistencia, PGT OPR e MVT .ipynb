{
 "cells": [
  {
   "cell_type": "markdown",
   "metadata": {},
   "source": [
    "# Teste de consistência - tabelas PGT, OPR e MVT"
   ]
  },
  {
   "cell_type": "markdown",
   "metadata": {},
   "source": [
    "# 1. Importação das bibliotecas utilizadas"
   ]
  },
  {
   "cell_type": "code",
   "execution_count": 29,
   "metadata": {},
   "outputs": [],
   "source": [
    "import pandas as pd\n",
    "import matplotlib.pyplot as plt"
   ]
  },
  {
   "cell_type": "markdown",
   "metadata": {},
   "source": [
    "# 2. Criação dos data frames para importação dos dados"
   ]
  },
  {
   "cell_type": "code",
   "execution_count": 30,
   "metadata": {},
   "outputs": [],
   "source": [
    "pgt = pd.read_excel('STG_PGT.xlsx')\n",
    "opr = pd.read_excel('STG_OPR_ITT.xlsx')\n",
    "mvt = pd.read_excel('STG_MVT_CRD.xlsx')"
   ]
  },
  {
   "cell_type": "markdown",
   "metadata": {},
   "source": [
    "# 3. Criando as variáveis para somar o total de cada modalidade"
   ]
  },
  {
   "cell_type": "code",
   "execution_count": 31,
   "metadata": {},
   "outputs": [],
   "source": [
    "cont_fat_a01 = 0\n",
    "cont_qntcli_a01 = 0\n",
    "cont_numUn_a01 = 0\n",
    "\n",
    "cont_fat_a04 = 0\n",
    "cont_qntcli_a04 = 0\n",
    "cont_numUn_a04 = 0\n",
    "\n",
    "cont_fat_a05 = 0\n",
    "cont_qntcli_a05 = 0\n",
    "cont_numUn_a05 = 0\n",
    "\n",
    "cont_fat_a99 = 0\n",
    "cont_qntcli_a99 = 0\n",
    "cont_numUn_a99 = 0\n",
    "\n",
    "cont_fat_b01 = 0\n",
    "cont_qntcli_b01 = 0\n",
    "cont_numUn_b01 = 0\n",
    "\n",
    "cont_fat_b03 = 0\n",
    "cont_qntcli_b03 = 0\n",
    "cont_numUn_b03 = 0\n",
    "\n",
    "cont_fat_b05 = 0\n",
    "cont_qntcli_b05 = 0\n",
    "cont_numUn_b05 = 0\n",
    "\n",
    "cont_fat_b06 = 0\n",
    "cont_qntcli_b06 = 0\n",
    "cont_numUn_b06 = 0\n",
    "\n",
    "cont_fat_b07 = 0\n",
    "cont_qntcli_b07 = 0\n",
    "cont_numUn_b07 = 0\n",
    "\n",
    "cont_fat_b99 = 0\n",
    "cont_qntcli_b99 = 0\n",
    "cont_numUn_b99 = 0\n",
    "\n",
    "cont_fat_c01 = 0\n",
    "cont_qntcli_c01 = 0\n",
    "cont_numUn_c01 = 0\n",
    "\n",
    "cont_fat_d01 = 0\n",
    "cont_qntcli_d01 = 0\n",
    "cont_numUn_d01 = 0\n",
    "\n",
    "cont_fat_f01 = 0\n",
    "cont_qntcli_f01 = 0\n",
    "cont_numUn_f01 = 0\n",
    "\n",
    "cont_fat_g01 = 0\n",
    "cont_qntcli_g01 = 0\n",
    "cont_numUn_g01 = 0\n",
    "\n",
    "total_fat_a01, total_fat_a04, total_fat_a05, total_fat_a99 = 0, 0, 0, 0\n",
    "total_fat_b01, total_fat_b03, total_fat_b05, total_fat_b06, total_fat_b07, total_fat_b99 = 0, 0, 0, 0, 0, 0\n",
    "total_fat_c01, total_fat_d01, total_fat_e01, total_fat_f01, total_fat_g01 = 0, 0, 0, 0, 0\n",
    "\n",
    "total_qntcli_a01, total_qntcli_a04, total_qntcli_a05, total_qntcli_a99 = 0, 0, 0, 0\n",
    "total_qntcli_b01, total_qntcli_b03, total_qntcli_b05, total_qntcli_b06, total_qntcli_b07, total_qntcli_b99 = 0, 0, 0, 0, 0, 0\n",
    "total_qntcli_c01, total_qntcli_d01, total_qntcli_e01, total_qntcli_f01, total_qntcli_g01 = 0, 0, 0, 0, 0\n",
    "\n",
    "total_numUn_a01, total_numUn_a04, total_numUn_a05, total_numUn_a99 = 0, 0, 0, 0\n",
    "total_numUn_b01, total_numUn_b03, total_numUn_b05, total_numUn_b06, total_numUn_b07, total_numUn_b99 = 0, 0, 0, 0, 0, 0\n",
    "total_numUn_c01, total_numUn_d01, total_numUn_e01, total_numUn_f01, total_numUn_g01 = 0, 0, 0, 0, 0"
   ]
  },
  {
   "cell_type": "markdown",
   "metadata": {},
   "source": [
    "# 4. Soma de todos os valores de cada modalidade da tabela PGT "
   ]
  },
  {
   "cell_type": "code",
   "execution_count": 32,
   "metadata": {},
   "outputs": [],
   "source": [
    "for i in range (len(pgt)):\n",
    "    if (str(pgt.COD_MDL[i]) == 'A01'):\n",
    "        cont_fat_a01 += int(pgt.VLR_PGT_FAT[i])\n",
    "        cont_qntcli_a01 += int(pgt.QTD_CLI_CAD_POS[i])\n",
    "        cont_numUn_a01 += int(pgt.QTD_PGT[i])\n",
    "    if (str(pgt.COD_MDL[i]) == 'A04'):\n",
    "        cont_fat_a04 += int(pgt.VLR_PGT_FAT[i])\n",
    "        cont_qntcli_a04 += int(pgt.QTD_CLI_CAD_POS[i])\n",
    "        cont_numUn_a04 += int(pgt.QTD_PGT[i])\n",
    "    if (str(pgt.COD_MDL[i]) == 'A05'):\n",
    "        cont_fat_a05 += int(pgt.VLR_PGT_FAT[i])\n",
    "        cont_qntcli_a05 += int(pgt.QTD_CLI_CAD_POS[i])\n",
    "        cont_numUn_a05 += int(pgt.QTD_PGT[i])\n",
    "    if (str(pgt.COD_MDL[i]) == 'A99'):\n",
    "        cont_fat_a99 += int(pgt.VLR_PGT_FAT[i])\n",
    "        cont_qntcli_a99 += int(pgt.QTD_CLI_CAD_POS[i])\n",
    "        cont_numUn_a99 += int(pgt.QTD_PGT[i])\n",
    "    if (str(pgt.COD_MDL[i]) == 'B01'):\n",
    "        cont_fat_b01 += int(pgt.VLR_PGT_FAT[i])\n",
    "        cont_qntcli_b01 += int(pgt.QTD_CLI_CAD_POS[i])\n",
    "        cont_numUn_b01 += int(pgt.QTD_PGT[i])\n",
    "    if (str(pgt.COD_MDL[i]) == 'B03'):\n",
    "        cont_fat_b03 += int(pgt.VLR_PGT_FAT[i])\n",
    "        cont_qntcli_b03 += int(pgt.QTD_CLI_CAD_POS[i])\n",
    "        cont_numUn_b03 += int(pgt.QTD_PGT[i])\n",
    "    if (str(pgt.COD_MDL[i]) == 'B05'):\n",
    "        cont_fat_b05 += int(pgt.VLR_PGT_FAT[i])\n",
    "        cont_qntcli_b05 += int(pgt.QTD_CLI_CAD_POS[i])\n",
    "        cont_numUn_b05 += int(pgt.QTD_PGT[i])\n",
    "    if (str(pgt.COD_MDL[i]) == 'B06'):\n",
    "        cont_fat_b06 += int(pgt.VLR_PGT_FAT[i])\n",
    "        cont_qntcli_b06 += int(pgt.QTD_CLI_CAD_POS[i])\n",
    "        cont_numUn_b06 += int(pgt.QTD_PGT[i])\n",
    "    if (str(pgt.COD_MDL[i]) == 'B07'):\n",
    "        cont_fat_b07 += int(pgt.VLR_PGT_FAT[i])\n",
    "        cont_qntcli_b07 += int(pgt.QTD_CLI_CAD_POS[i])\n",
    "        cont_numUn_b07 += int(pgt.QTD_PGT[i])\n",
    "    if (str(pgt.COD_MDL[i]) == 'B99'):\n",
    "        cont_fat_b99 += int(pgt.VLR_PGT_FAT[i])\n",
    "        cont_qntcli_b99 += int(pgt.QTD_CLI_CAD_POS[i])\n",
    "        cont_numUn_b99 += int(pgt.QTD_PGT[i])\n",
    "    if (str(pgt.COD_MDL[i]) == 'C01'):\n",
    "        cont_fat_c01 += int(pgt.VLR_PGT_FAT[i])\n",
    "        cont_qntcli_c01 += int(pgt.QTD_CLI_CAD_POS[i])\n",
    "        cont_numUn_c01 += int(pgt.QTD_PGT[i])\n",
    "    if (str(pgt.COD_MDL[i]) == 'D01'):\n",
    "        cont_fat_d01 += int(pgt.VLR_PGT_FAT[i])\n",
    "        cont_qntcli_d01 += int(pgt.QTD_CLI_CAD_POS[i])\n",
    "        cont_numUn_d01 += int(pgt.QTD_PGT[i])\n",
    "    if (str(pgt.COD_MDL[i]) == 'F01'):\n",
    "        cont_fat_f01 += int(pgt.VLR_PGT_FAT[i])\n",
    "        cont_qntcli_f01 += int(pgt.QTD_CLI_CAD_POS[i])\n",
    "        cont_numUn_f01 += int(pgt.QTD_PGT[i])\n",
    "    if (str(pgt.COD_MDL[i]) == 'G01'):\n",
    "        cont_fat_g01 += int(pgt.VLR_PGT_FAT[i])\n",
    "        cont_qntcli_g01 += int(pgt.QTD_CLI_CAD_POS[i])\n",
    "        cont_numUn_g01 += int(pgt.QTD_PGT[i])"
   ]
  },
  {
   "cell_type": "markdown",
   "metadata": {},
   "source": [
    "# 5. Soma de todos os valores de cada modalidade da tabela OPR "
   ]
  },
  {
   "cell_type": "code",
   "execution_count": 33,
   "metadata": {},
   "outputs": [],
   "source": [
    "cont_valctr_c01 = 0\n",
    "\n",
    "for i in range (len(opr)):\n",
    "    if (str(opr.ID_MDL[i]) == 'A01'):\n",
    "        cont_qntcli_a01 += int(opr.QTD_CLI_CAD_POS[i])\n",
    "        cont_numUn_a01 += int(opr.QTD_OPR[i])\n",
    "    if (str(opr.ID_MDL[i]) == 'A04'):\n",
    "        cont_qntcli_a04 += int(opr.QTD_CLI_CAD_POS[i])\n",
    "        cont_numUn_a04 += int(opr.QTD_OPR[i])\n",
    "    if (str(opr.ID_MDL[i]) == 'A05'):\n",
    "        cont_qntcli_a05 += int(opr.QTD_CLI_CAD_POS[i])\n",
    "        cont_numUn_a05 += int(opr.QTD_OPR[i])\n",
    "    if (str(opr.ID_MDL[i]) == 'A99'):\n",
    "        cont_qntcli_a99 += int(opr.QTD_CLI_CAD_POS[i])\n",
    "        cont_numUn_a99 += int(opr.QTD_OPR[i])\n",
    "    if (str(opr.ID_MDL[i]) == 'B01'):\n",
    "        cont_qntcli_b01 += int(opr.QTD_CLI_CAD_POS[i])\n",
    "        cont_numUn_b01 += int(opr.QTD_OPR[i])\n",
    "    if (str(opr.ID_MDL[i]) == 'B03'):\n",
    "        cont_qntcli_b03 += int(opr.QTD_CLI_CAD_POS[i])\n",
    "        cont_numUn_b03 += int(opr.QTD_OPR[i])\n",
    "    if (str(opr.ID_MDL[i]) == 'B05'):\n",
    "        cont_qntcli_b05 += int(opr.QTD_CLI_CAD_POS[i])\n",
    "        cont_numUn_b05 += int(opr.QTD_OPR[i])\n",
    "    if (str(opr.ID_MDL[i]) == 'B06'):\n",
    "        cont_qntcli_b06 += int(opr.QTD_CLI_CAD_POS[i])\n",
    "        cont_numUn_b06 += int(opr.QTD_OPR[i])\n",
    "    if (str(opr.ID_MDL[i]) == 'B07'):\n",
    "        cont_qntcli_b07 += int(opr.QTD_CLI_CAD_POS[i])\n",
    "        cont_numUn_b07 += int(opr.QTD_OPR[i])\n",
    "    if (str(opr.ID_MDL[i]) == 'B99'):\n",
    "        cont_qntcli_b99 += int(opr.QTD_CLI_CAD_POS[i])\n",
    "        cont_numUn_b99 += int(opr.QTD_OPR[i])\n",
    "    if (str(opr.ID_MDL[i]) == 'C01'):       \n",
    "        cont_valctr_c01 += int(opr.VLR_CTRD_CSC[i] - opr.VLR_SDO_DDR[i])\n",
    "        cont_qntcli_c01 += int(opr.QTD_CLI_CAD_POS[i])\n",
    "        cont_numUn_c01 += int(opr.QTD_OPR[i])\n",
    "    if (str(opr.ID_MDL[i]) == 'F01'):\n",
    "        cont_qntcli_f01 += int(opr.QTD_CLI_CAD_POS[i])\n",
    "        cont_numUn_f01 += int(opr.QTD_OPR[i])\n",
    "    if (str(opr.ID_MDL[i]) == 'G01'):\n",
    "        cont_qntcli_g01 += int(opr.QTD_CLI_CAD_POS[i])\n",
    "        cont_numUn_g01 += int(opr.QTD_OPR[i])\n",
    "        "
   ]
  },
  {
   "cell_type": "markdown",
   "metadata": {},
   "source": [
    "# 6. Soma de todos os valores de cada modalidade da tabela MVT "
   ]
  },
  {
   "cell_type": "code",
   "execution_count": 34,
   "metadata": {},
   "outputs": [],
   "source": [
    "\n",
    "\n",
    "for i in range (len(mvt)):\n",
    "    if str(mvt.COD_MDL[i]) == 'A01':\n",
    "        total_fat_a01 = mvt.VLR_PCL_FAT[i]\n",
    "        total_qntcli_a01 = mvt.QTD_CLI_CAD_POS[i]\n",
    "        total_numUn_a01 = mvt.QTD_MVT[i]\n",
    "    if str(mvt.COD_MDL[i]) == 'A04':\n",
    "        total_fat_a04 = mvt.VLR_PCL_FAT[i]\n",
    "        total_qntcli_a04 = mvt.QTD_CLI_CAD_POS[i]\n",
    "        total_numUn_a04 = mvt.QTD_MVT[i]\n",
    "    if str(mvt.COD_MDL[i]) == 'A05':\n",
    "        total_fat_a05 = mvt.VLR_PCL_FAT[i]\n",
    "        total_qntcli_a05 = mvt.QTD_CLI_CAD_POS[i]\n",
    "        total_numUn_a05 = mvt.QTD_MVT[i]\n",
    "    if str(mvt.COD_MDL[i]) == 'A99':\n",
    "        total_fat_a99 = mvt.VLR_PCL_FAT[i]\n",
    "        total_qntcli_a99 = mvt.QTD_CLI_CAD_POS[i]\n",
    "        total_numUn_a99 = mvt.QTD_MVT[i]\n",
    "    if str(mvt.COD_MDL[i]) == 'B01':\n",
    "        total_fat_b01 = mvt.VLR_PCL_FAT[i]\n",
    "        total_qntcli_b01 = mvt.QTD_CLI_CAD_POS[i]\n",
    "        total_numUn_b01 = mvt.QTD_MVT[i]\n",
    "    if str(mvt.COD_MDL[i]) == 'B03':\n",
    "        total_fat_b03 = mvt.VLR_PCL_FAT[i]\n",
    "        total_qntcli_b03 = mvt.QTD_CLI_CAD_POS[i]\n",
    "        total_numUn_b03 = mvt.QTD_MVT[i]\n",
    "    if str(mvt.COD_MDL[i]) == 'B05':\n",
    "        total_fat_b05 = mvt.VLR_PCL_FAT[i]\n",
    "        total_qntcli_b05 = mvt.QTD_CLI_CAD_POS[i]\n",
    "        total_numUn_b05 = mvt.QTD_MVT[i]\n",
    "    if str(mvt.COD_MDL[i]) == 'B06':\n",
    "        total_fat_b06 = mvt.VLR_PCL_FAT[i]\n",
    "        total_qntcli_b06 = mvt.QTD_CLI_CAD_POS[i]\n",
    "        total_numUn_b06 = mvt.QTD_MVT[i]\n",
    "    if str(mvt.COD_MDL[i]) == 'B07':\n",
    "        total_fat_b07 = mvt.VLR_PCL_FAT[i]\n",
    "        total_qntcli_b07 = mvt.QTD_CLI_CAD_POS[i]\n",
    "        total_numUn_b07 = mvt.QTD_MVT[i]\n",
    "    if str(mvt.COD_MDL[i]) == 'B99':\n",
    "        total_fat_b99 = mvt.VLR_PCL_FAT[i]\n",
    "        total_qntcli_b99 = mvt.QTD_CLI_CAD_POS[i]\n",
    "        total_numUn_b99 = mvt.QTD_MVT[i]\n",
    "    if str(mvt.COD_MDL[i]) == 'C01':\n",
    "        total_fat_c01 = mvt.VLR_PCL_FAT[i]\n",
    "        total_qntcli_c01 = mvt.QTD_CLI_CAD_POS[i]\n",
    "        total_numUn_c01 = mvt.QTD_MVT[i]\n",
    "    if str(mvt.COD_MDL[i]) == 'D01':\n",
    "        total_fat_d01 = mvt.VLR_TOT_FAT[i]\n",
    "        total_qntcli_d01 = mvt.QTD_CLI_CAD_POS[i]\n",
    "        total_numUn_d01 = mvt.QTD_MVT[i]\n",
    "    if str(mvt.COD_MDL[i]) == 'E01':\n",
    "        total_fat_e01 = mvt.VLR_SDO_UTZ_CRD_RTO[i]\n",
    "        total_qntcli_e01 = mvt.QTD_CLI_CAD_POS[i]\n",
    "        total_numUn_e01 = mvt.QTD_MVT[i]\n",
    "    if str(mvt.COD_MDL[i]) == 'F01':\n",
    "        total_fat_f01 = mvt.VLR_PCL_FAT[i]\n",
    "        total_qntcli_f01 = mvt.QTD_CLI_CAD_POS[i]\n",
    "        total_numUn_f01 = mvt.QTD_MVT[i]\n",
    "    if str(mvt.COD_MDL[i]) == 'G01':\n",
    "        total_fat_g01 = mvt.VLR_PCL_FAT[i]\n",
    "        total_qntcli_g01 = mvt.QTD_CLI_CAD_POS[i]\n",
    "        total_numUn_g01 = mvt.QTD_MVT[i]"
   ]
  },
  {
   "cell_type": "markdown",
   "metadata": {},
   "source": [
    "# 7. Comparando o total da tabela MVT com a soma das tabelas PGT e OPR"
   ]
  },
  {
   "cell_type": "code",
   "execution_count": 35,
   "metadata": {},
   "outputs": [
    {
     "data": {
      "text/plain": [
       "['False',\n",
       " 'False',\n",
       " 'False',\n",
       " 'False',\n",
       " 'False',\n",
       " 'False',\n",
       " 'False',\n",
       " 'False',\n",
       " 'False',\n",
       " 'False',\n",
       " 'False',\n",
       " 'False',\n",
       " 'False',\n",
       " 'False']"
      ]
     },
     "execution_count": 35,
     "metadata": {},
     "output_type": "execute_result"
    }
   ],
   "source": [
    "lista_fatura = []\n",
    "\n",
    "if total_fat_a01 == cont_fat_a01: lista_fatura.append('True')\n",
    "else: lista_fatura.append('False')\n",
    "if total_fat_a04 == cont_fat_a04: lista_fatura.append('True')\n",
    "else: lista_fatura.append('False')\n",
    "if total_fat_a05 == cont_fat_a05: lista_fatura.append('True')\n",
    "else: lista_fatura.append('False')\n",
    "if total_fat_a99 == cont_fat_a99: lista_fatura.append('True')\n",
    "else: lista_fatura.append('False')\n",
    "if total_fat_b01 == cont_fat_b01: lista_fatura.append('True')\n",
    "else: lista_fatura.append('False')\n",
    "if total_fat_b03 == cont_fat_b03: lista_fatura.append('True')\n",
    "else: lista_fatura.append('False')\n",
    "if total_fat_b05 == cont_fat_b05: lista_fatura.append('True')\n",
    "else: lista_fatura.append('False')\n",
    "if total_fat_b06 == cont_fat_b06: lista_fatura.append('True')\n",
    "else: lista_fatura.append('False')\n",
    "if total_fat_b07 == cont_fat_b07: lista_fatura.append('True')\n",
    "else: lista_fatura.append('False')\n",
    "if total_fat_b99 == cont_fat_b99: lista_fatura.append('True')\n",
    "else: lista_fatura.append('False')\n",
    "if total_fat_c01 == cont_fat_c01: lista_fatura.append('True')\n",
    "else: lista_fatura.append('False')\n",
    "if total_fat_d01 == cont_fat_d01: lista_fatura.append('True')\n",
    "else: lista_fatura.append('False')\n",
    "if total_fat_f01 == cont_fat_f01: lista_fatura.append('True')\n",
    "else: lista_fatura.append('False')\n",
    "if total_fat_g01 == cont_fat_g01: lista_fatura.append('True')\n",
    "else: lista_fatura.append('False')\n",
    "\n",
    "lista_fatura"
   ]
  },
  {
   "cell_type": "code",
   "execution_count": 36,
   "metadata": {},
   "outputs": [
    {
     "data": {
      "text/plain": [
       "['False',\n",
       " 'False',\n",
       " 'False',\n",
       " 'False',\n",
       " 'False',\n",
       " 'False',\n",
       " 'False',\n",
       " 'False',\n",
       " 'False',\n",
       " 'False',\n",
       " 'False',\n",
       " 'False',\n",
       " 'False',\n",
       " 'False']"
      ]
     },
     "execution_count": 36,
     "metadata": {},
     "output_type": "execute_result"
    }
   ],
   "source": [
    "lista_qntcli = []\n",
    "\n",
    "if total_qntcli_a01 == cont_qntcli_a01: lista_qntcli.append('True')\n",
    "else: lista_qntcli.append('False')\n",
    "if total_qntcli_a04 == cont_qntcli_a04: lista_qntcli.append('True')\n",
    "else: lista_qntcli.append('False')\n",
    "if total_qntcli_a05 == cont_qntcli_a05: lista_qntcli.append('True')\n",
    "else: lista_qntcli.append('False')\n",
    "if total_qntcli_a99 == cont_qntcli_a99: lista_qntcli.append('True')\n",
    "else: lista_qntcli.append('False')\n",
    "if total_qntcli_b01 == cont_qntcli_b01: lista_qntcli.append('True')\n",
    "else: lista_qntcli.append('False')\n",
    "if total_qntcli_b03 == cont_qntcli_b03: lista_qntcli.append('True')\n",
    "else: lista_qntcli.append('False')\n",
    "if total_qntcli_b05 == cont_qntcli_b05: lista_qntcli.append('True')\n",
    "else: lista_qntcli.append('False')\n",
    "if total_qntcli_b06 == cont_qntcli_b06: lista_qntcli.append('True')\n",
    "else: lista_qntcli.append('False')\n",
    "if total_qntcli_b07 == cont_qntcli_b07: lista_qntcli.append('True')\n",
    "else: lista_qntcli.append('False')\n",
    "if total_qntcli_b99 == cont_qntcli_b99: lista_qntcli.append('True')\n",
    "else: lista_qntcli.append('False')\n",
    "if total_qntcli_c01 == cont_qntcli_c01: lista_qntcli.append('True')\n",
    "else: lista_qntcli.append('False')\n",
    "if total_qntcli_d01 == cont_qntcli_d01: lista_qntcli.append('True')\n",
    "else: lista_qntcli.append('False')\n",
    "if total_qntcli_f01 == cont_qntcli_f01: lista_qntcli.append('True')\n",
    "else: lista_qntcli.append('False')\n",
    "if total_qntcli_g01 == cont_qntcli_g01: lista_qntcli.append('True')\n",
    "else: lista_qntcli.append('False')\n",
    "    \n",
    "lista_qntcli"
   ]
  },
  {
   "cell_type": "code",
   "execution_count": 37,
   "metadata": {},
   "outputs": [
    {
     "data": {
      "text/plain": [
       "['False',\n",
       " 'False',\n",
       " 'False',\n",
       " 'False',\n",
       " 'False',\n",
       " 'False',\n",
       " 'False',\n",
       " 'False',\n",
       " 'False',\n",
       " 'False',\n",
       " 'False',\n",
       " 'False',\n",
       " 'False',\n",
       " 'False']"
      ]
     },
     "execution_count": 37,
     "metadata": {},
     "output_type": "execute_result"
    }
   ],
   "source": [
    "lista_numUn = []\n",
    "\n",
    "if total_numUn_a01 == cont_numUn_a01: lista_numUn.append('True')\n",
    "else: lista_numUn.append('False')\n",
    "if total_numUn_a04 == cont_numUn_a04: lista_numUn.append('True')\n",
    "else: lista_numUn.append('False')\n",
    "if total_numUn_a05 == cont_numUn_a05: lista_numUn.append('True')\n",
    "else: lista_numUn.append('False')\n",
    "if total_numUn_a99 == cont_numUn_a99: lista_numUn.append('True')\n",
    "else: lista_numUn.append('False')\n",
    "if total_numUn_b01 == cont_numUn_b01: lista_numUn.append('True')\n",
    "else: lista_numUn.append('False')\n",
    "if total_numUn_b03 == cont_numUn_b03: lista_numUn.append('True')\n",
    "else: lista_numUn.append('False')\n",
    "if total_numUn_b05 == cont_numUn_b05: lista_numUn.append('True')\n",
    "else: lista_numUn.append('False')\n",
    "if total_numUn_b06 == cont_numUn_b06: lista_numUn.append('True')\n",
    "else: lista_numUn.append('False')\n",
    "if total_numUn_b07 == cont_numUn_b07: lista_numUn.append('True')\n",
    "else: lista_numUn.append('False')\n",
    "if total_numUn_b99 == cont_numUn_b99: lista_numUn.append('True')\n",
    "else: lista_numUn.append('False')\n",
    "if total_numUn_c01 == cont_numUn_c01: lista_numUn.append('True')\n",
    "else: lista_numUn.append('False')\n",
    "if total_numUn_d01 == cont_numUn_d01: lista_numUn.append('True')\n",
    "else: lista_numUn.append('False')\n",
    "if total_numUn_f01 == cont_numUn_f01: lista_numUn.append('True')\n",
    "else: lista_numUn.append('False')\n",
    "if total_numUn_g01 == cont_numUn_g01: lista_numUn.append('True')\n",
    "else: lista_numUn.append('False')\n",
    "\n",
    "lista_numUn "
   ]
  },
  {
   "cell_type": "markdown",
   "metadata": {},
   "source": [
    "### 7.1 Com 'False' adicionado em todas as listas entendemos que nenhum valor bate, sendo assim, definimos consistência 0."
   ]
  },
  {
   "cell_type": "markdown",
   "metadata": {},
   "source": [
    "# 8. Representação gráfica"
   ]
  },
  {
   "cell_type": "code",
   "execution_count": 39,
   "metadata": {},
   "outputs": [
    {
     "data": {
      "image/png": "[encoded data removed]",
      "text/plain": [
       "<Figure size 432x288 with 1 Axes>"
      ]
     },
     "metadata": {},
     "output_type": "display_data"
    }
   ],
   "source": [
    "dados = len(lista_fatura) + len(lista_qntcli) + len(lista_numUn )\n",
    "labels ='', 'Não consistente'\n",
    "sizes = [total, dados]\n",
    "fig1, ax1 = plt.subplots()\n",
    "\n",
    "ax1.pie(sizes, labels=labels, autopct='%1.1f%%',\n",
    "       startangle=90)\n",
    "\n",
    "ax1.axis('equal')\n",
    "plt.show()"
   ]
  },
  {
   "cell_type": "code",
   "execution_count": null,
   "metadata": {},
   "outputs": [],
   "source": []
  }
 ],
 "metadata": {
  "kernelspec": {
   "display_name": "Python 3",
   "language": "python",
   "name": "python3"
  },
  "language_info": {
   "codemirror_mode": {
    "name": "ipython",
    "version": 3
   },
   "file_extension": ".py",
   "mimetype": "text/x-python",
   "name": "python",
   "nbconvert_exporter": "python",
   "pygments_lexer": "ipython3",
   "version": "3.7.7rc1"
  }
 },
 "nbformat": 4,
 "nbformat_minor": 4
}
