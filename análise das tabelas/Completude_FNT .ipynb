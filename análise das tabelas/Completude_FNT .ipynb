{
 "cells": [
  {
   "cell_type": "code",
   "execution_count": 1,
   "metadata": {},
   "outputs": [],
   "source": [
    "## Importando a biblioteca\n",
    "import pandas as pd\n",
    "import numpy as np\n",
    "import matplotlib.pyplot as plt"
   ]
  },
  {
   "cell_type": "code",
   "execution_count": 2,
   "metadata": {},
   "outputs": [],
   "source": [
    "## Atribuindo o arquivo a uma variável(Dataframe)\n",
    "fnt = pd.read_excel('STG_FNT_ITT.xlsx')\n"
   ]
  },
  {
   "cell_type": "code",
   "execution_count": 8,
   "metadata": {},
   "outputs": [],
   "source": [
    "## Verificando completude das colunas\n",
    "cont1, cont2, cont3, cont4 = 0, 0, 0, 0\n"
   ]
  },
  {
   "cell_type": "code",
   "execution_count": 3,
   "metadata": {},
   "outputs": [],
   "source": [
    "## Verificando completude das colunas\n",
    "total =[]\n",
    "nulos =[]\n",
    "cont1, cont2, cont3, cont4 = 0, 0, 0, 0\n",
    "for i in range (len(fnt)):\n",
    "    if (str(fnt.NUM_CNPJ) == ''):\n",
    "        cont1 += 1\n",
    "        nulos.append(cont1)\n",
    "    if (str(fnt.NUM_CMP_CNPJ) == ''):\n",
    "        cont2 += 1\n",
    "        nulos.append(cont2)\n",
    "    if (str(fnt.NOM_COM) == ''):\n",
    "        cont3 += 1\n",
    "        nulos.append(cont3)\n",
    "    if (str(fnt.NOM_RAZ_SCL) == ''):\n",
    "        cont4 += 1\n",
    "        nulos.append(cont4)"
   ]
  },
  {
   "cell_type": "code",
   "execution_count": 4,
   "metadata": {},
   "outputs": [
    {
     "data": {
      "text/plain": [
       "Text(0.5, 1.0, 'Completude dos dados')"
      ]
     },
     "execution_count": 4,
     "metadata": {},
     "output_type": "execute_result"
    },
    {
     "data": {
      "image/png": "[encoded data removed]",
      "text/plain": [
       "<Figure size 432x288 with 1 Axes>"
      ]
     },
     "metadata": {
      "needs_background": "light"
     },
     "output_type": "display_data"
    }
   ],
   "source": [
    "dados = ['Total', 'Nulos']\n",
    "n = len(fnt), len(nulos)\n",
    "plt.bar(dados, n, color=\"blue\")\n",
    "plt.xticks(dados)\n",
    "plt.ylabel('QUANTIDADE')\n",
    "plt.xlabel('DADOS')\n",
    "plt.title('Completude dos dados')"
   ]
  },
  {
   "cell_type": "code",
   "execution_count": null,
   "metadata": {},
   "outputs": [],
   "source": []
  }
 ],
 "metadata": {
  "kernelspec": {
   "display_name": "Python 3",
   "language": "python",
   "name": "python3"
  },
  "language_info": {
   "codemirror_mode": {
    "name": "ipython",
    "version": 3
   },
   "file_extension": ".py",
   "mimetype": "text/x-python",
   "name": "python",
   "nbconvert_exporter": "python",
   "pygments_lexer": "ipython3",
   "version": "3.7.7rc1"
  }
 },
 "nbformat": 4,
 "nbformat_minor": 4
}
