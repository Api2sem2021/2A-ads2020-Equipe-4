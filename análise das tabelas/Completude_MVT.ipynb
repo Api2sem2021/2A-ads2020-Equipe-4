{
 "cells": [
  {
   "cell_type": "code",
   "execution_count": 1,
   "metadata": {},
   "outputs": [],
   "source": [
    "## Importando a biblioteca\n",
    "import pandas as pd\n",
    "import numpy as np\n",
    "import matplotlib.pyplot as plt"
   ]
  },
  {
   "cell_type": "code",
   "execution_count": 2,
   "metadata": {},
   "outputs": [],
   "source": [
    "## Atribuindo o arquivo a uma variável(Dataframe)\n",
    "mvt = pd.read_excel('STG_MVT_CRD.xlsx')"
   ]
  },
  {
   "cell_type": "code",
   "execution_count": 3,
   "metadata": {},
   "outputs": [],
   "source": [
    "## Verificando completude das colunas\n",
    "total = []\n",
    "nulos = []\n",
    "total.append(len(mvt))\n",
    "for i in range (len(mvt)):\n",
    "    if (str(mvt.COD_MDL[i]) == 'E01' and str(mvt.VLR_SDO_UTZ_CRD_RTO) == ''):\n",
    "        cont1 += 1\n",
    "        lunos.append(cont1)\n",
    "    if (str(mvt.COD_MDL[i]) == 'D01' and str(mvt.VLR_TOT_FAT) == ''):\n",
    "        cont2 += 1\n",
    "        lunos.append(cont2)\n",
    "    if (str(mvt.COD_MDL[i]) == 'D01' and str(mvt.VLR_MIM_FAT) == ''):\n",
    "        cont3 += 1\n",
    "        lunos.append(cont3)\n",
    "    if (str(mvt.VLR_PCL_FAT) == ''):\n",
    "        if (str(mvt.COD_MDL[i]) != 'D01') and (str(mvt.COD_MDL[i]) != 'E01'):\n",
    "            cont4 += 1\n",
    "            lunos.append(cont4)"
   ]
  },
  {
   "cell_type": "code",
   "execution_count": 4,
   "metadata": {},
   "outputs": [
    {
     "data": {
      "text/plain": [
       "Text(0.5, 1.0, 'Completude dos dados')"
      ]
     },
     "execution_count": 4,
     "metadata": {},
     "output_type": "execute_result"
    },
    {
     "data": {
      "image/png": "[encoded data removed]",
      "text/plain": [
       "<Figure size 432x288 with 1 Axes>"
      ]
     },
     "metadata": {
      "needs_background": "light"
     },
     "output_type": "display_data"
    }
   ],
   "source": [
    "dados = ['Total', 'Nulos']\n",
    "n = len(mvt), len(nulos)\n",
    "plt.bar(dados, n, color=\"blue\")\n",
    "plt.xticks(dados)\n",
    "plt.ylabel('QUANTIDADE')\n",
    "plt.xlabel('DADOS')\n",
    "plt.title('Completude dos dados')"
   ]
  },
  {
   "cell_type": "code",
   "execution_count": null,
   "metadata": {},
   "outputs": [],
   "source": []
  }
 ],
 "metadata": {
  "kernelspec": {
   "display_name": "Python 3",
   "language": "python",
   "name": "python3"
  },
  "language_info": {
   "codemirror_mode": {
    "name": "ipython",
    "version": 3
   },
   "file_extension": ".py",
   "mimetype": "text/x-python",
   "name": "python",
   "nbconvert_exporter": "python",
   "pygments_lexer": "ipython3",
   "version": "3.7.7rc1"
  }
 },
 "nbformat": 4,
 "nbformat_minor": 4
}
